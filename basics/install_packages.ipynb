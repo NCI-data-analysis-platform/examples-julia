{
 "cells": [
  {
   "cell_type": "markdown",
   "id": "92e492ac-be5d-4ede-a7bd-567bc7ac454a",
   "metadata": {},
   "source": [
    "# Bring Your Own Packages\n",
    "\n",
    "By default, Julia in the module NCI-data-analysis uses the packages defined in the environment in /opt/julia. Even though we've prepared 500+ packages in the module, there are still chances of missing ones required in some workflows. Unfortunately, the path `/opt/julia` only exists in the singularity image and users have no permission to modify it. If more packages are required, plug in your own environment and customize it as needed. \n",
    "\n",
    "In this notebook we show how to\n",
    "* install the missing package in your own project directory.\n",
    "* use existing environment with or without write permission.\n",
    "\n",
    "## Internet Access\n",
    "\n",
    "Before following this example further, check whether the access to the external network is available. If the `hostname` command returns to a message not starting with any of the following strings: `gadi-dm`, `gadi-analysis`, and `ood-vn`, quit and restart another session that runs on one of the three types of node. "
   ]
  },
  {
   "cell_type": "code",
   "execution_count": 1,
   "id": "cc4abe6e-8597-4fdc-903e-f42f6915ceae",
   "metadata": {},
   "outputs": [
    {
     "name": "stdout",
     "output_type": "stream",
     "text": [
      "gadi-dm-01.gadi.nci.org.au\n"
     ]
    }
   ],
   "source": [
    "; hostname"
   ]
  },
  {
   "cell_type": "markdown",
   "id": "fde8dd38-13f0-4fb9-8ebb-2fef96582b76",
   "metadata": {},
   "source": [
    "To install a package maintained in the [Julia Package Listing](https://juliapackages.com/) requires internet access. There are some discussions about [offline installation](https://discourse.julialang.org/t/offline-installation-of-julia-packages/20083/12), however, it's beyond the topic covered in this example notebook. \n",
    "\n",
    "## Initialization of an Empty Environment\n",
    "\n",
    "By default, Julia package manager points to the environment we prepared in `/opt/julia`. If some packages are missing in the default environment, it looks like the following. "
   ]
  },
  {
   "cell_type": "code",
   "execution_count": 2,
   "id": "6adbbdac-6cbf-4a59-8a20-70eff664efcd",
   "metadata": {},
   "outputs": [
    {
     "name": "stdout",
     "output_type": "stream",
     "text": [
      "\u001b[32m\u001b[1m  No Matches\u001b[22m\u001b[39m in `/opt/julia/environments/v1.7/Project.toml`\n"
     ]
    }
   ],
   "source": [
    "] st GraphIO"
   ]
  },
  {
   "cell_type": "markdown",
   "id": "29c23adf-b489-407c-9137-407b1b514b40",
   "metadata": {},
   "source": [
    "To install the missing package to `/g/data/z00/.julia`, let's initialize an empty environment to host it first.\n",
    "\n",
    "The minimal initialization requires an empty `Project.toml` file. Under the assumption that the directory `/g/data/z00/.julia/environments/v1.7` doesn't exist, we create the directory before creating the new empty toml file."
   ]
  },
  {
   "cell_type": "code",
   "execution_count": 3,
   "id": "2a9c7f9f-da5f-4376-aed7-1bbd4d7935b6",
   "metadata": {},
   "outputs": [],
   "source": [
    "; mkdir -p /g/data/z00/.julia/environments/v1.7"
   ]
  },
  {
   "cell_type": "code",
   "execution_count": 4,
   "id": "e85d9f85-8fd1-4822-9dae-7c58cb190a86",
   "metadata": {},
   "outputs": [],
   "source": [
    "; touch /g/data/z00/.julia/environments/v1.7/Project.toml"
   ]
  },
  {
   "cell_type": "markdown",
   "id": "3265ed7f-1b8f-410b-a0ea-543b72b8aeb5",
   "metadata": {},
   "source": [
    "## Point to the New Environment\n",
    "\n",
    "Once the empty project toml file is ready, add its path as the first element in [`DEPOT_PATH`](https://docs.julialang.org/en/v1/base/constants/#Base.DEPOT_PATH) which Julia uses to find installed packages. In this example, the new environment is located in the directory `/g/data/z00/.julia`. You can choose another location on `/scratch` or `/home` in an ARE session if necessary but be aware that if running inside an OOD session the choices can be different. "
   ]
  },
  {
   "cell_type": "code",
   "execution_count": 5,
   "id": "ea254624-5dee-4b9c-b335-de2ce92faab9",
   "metadata": {
    "tags": []
   },
   "outputs": [
    {
     "data": {
      "text/plain": [
       "2-element Vector{String}:\n",
       " \"/g/data/z00/.julia\"\n",
       " \"/opt/julia\""
      ]
     },
     "execution_count": 5,
     "metadata": {},
     "output_type": "execute_result"
    }
   ],
   "source": [
    "pushfirst!(DEPOT_PATH,\"/g/data/z00/.julia\")"
   ]
  },
  {
   "cell_type": "markdown",
   "id": "5096a4a6-0565-48ee-becb-0804b65202e4",
   "metadata": {},
   "source": [
    "It is always good to show the current environment before making any changes to it."
   ]
  },
  {
   "cell_type": "code",
   "execution_count": 6,
   "id": "5afb7f24-94e1-49a0-9d46-e4d41495768e",
   "metadata": {
    "tags": []
   },
   "outputs": [
    {
     "name": "stdout",
     "output_type": "stream",
     "text": [
      "\u001b[32m\u001b[1m      Status\u001b[22m\u001b[39m `/g/data/z00/.julia/environments/v1.7/Project.toml` (empty project)\n"
     ]
    }
   ],
   "source": [
    "] st"
   ]
  },
  {
   "cell_type": "markdown",
   "id": "e770623e-1bac-48f4-8a4c-75c744cbfd73",
   "metadata": {},
   "source": [
    "## Install Packages to the Current Environment\n",
    "\n",
    "Add the missing package like the following and run the default test as part of the installation."
   ]
  },
  {
   "cell_type": "code",
   "execution_count": 7,
   "id": "887093cc-5825-4813-9bcc-5476d36679c4",
   "metadata": {},
   "outputs": [
    {
     "name": "stderr",
     "output_type": "stream",
     "text": [
      "\u001b[32m\u001b[1m   Resolving\u001b[22m\u001b[39m package versions...\n",
      "\u001b[32m\u001b[1m   Installed\u001b[22m\u001b[39m Compat ──────── v4.1.0\n",
      "\u001b[32m\u001b[1m   Installed\u001b[22m\u001b[39m ArnoldiMethod ─ v0.2.0\n",
      "\u001b[32m\u001b[1m   Installed\u001b[22m\u001b[39m GraphIO ─────── v0.6.0\n",
      "\u001b[32m\u001b[1m   Installed\u001b[22m\u001b[39m Graphs ──────── v1.5.0\n",
      "\u001b[32m\u001b[1m    Updating\u001b[22m\u001b[39m `/g/data/z00/.julia/environments/v1.7/Project.toml`\n",
      " \u001b[90m [aa1b3936] \u001b[39m\u001b[92m+ GraphIO v0.6.0\u001b[39m\n",
      "\u001b[32m\u001b[1m    Updating\u001b[22m\u001b[39m `/g/data/z00/.julia/environments/v1.7/Manifest.toml`\n",
      " \u001b[90m [ec485272] \u001b[39m\u001b[92m+ ArnoldiMethod v0.2.0\u001b[39m\n",
      " \u001b[90m [34da2185] \u001b[39m\u001b[92m+ Compat v4.1.0\u001b[39m\n",
      " \u001b[90m [864edb3b] \u001b[39m\u001b[92m+ DataStructures v0.18.13\u001b[39m\n",
      " \u001b[90m [aa1b3936] \u001b[39m\u001b[92m+ GraphIO v0.6.0\u001b[39m\n",
      " \u001b[90m [86223c79] \u001b[39m\u001b[92m+ Graphs v1.5.0\u001b[39m\n",
      " \u001b[90m [d25df0c9] \u001b[39m\u001b[92m+ Inflate v0.1.2\u001b[39m\n",
      " \u001b[90m [1914dd2f] \u001b[39m\u001b[92m+ MacroTools v0.5.9\u001b[39m\n",
      " \u001b[90m [bac558e1] \u001b[39m\u001b[92m+ OrderedCollections v1.4.1\u001b[39m\n",
      " \u001b[90m [ae029012] \u001b[39m\u001b[92m+ Requires v1.3.0\u001b[39m\n",
      " \u001b[90m [699a6c99] \u001b[39m\u001b[92m+ SimpleTraits v0.9.4\u001b[39m\n",
      " \u001b[90m [90137ffa] \u001b[39m\u001b[92m+ StaticArrays v1.4.6\u001b[39m\n",
      " \u001b[90m [56f22d72] \u001b[39m\u001b[92m+ Artifacts\u001b[39m\n",
      " \u001b[90m [2a0f44e3] \u001b[39m\u001b[92m+ Base64\u001b[39m\n",
      " \u001b[90m [ade2ca70] \u001b[39m\u001b[92m+ Dates\u001b[39m\n",
      " \u001b[90m [8bb1440f] \u001b[39m\u001b[92m+ DelimitedFiles\u001b[39m\n",
      " \u001b[90m [8ba89e20] \u001b[39m\u001b[92m+ Distributed\u001b[39m\n",
      " \u001b[90m [b77e0a4c] \u001b[39m\u001b[92m+ InteractiveUtils\u001b[39m\n",
      " \u001b[90m [8f399da3] \u001b[39m\u001b[92m+ Libdl\u001b[39m\n",
      " \u001b[90m [37e2e46d] \u001b[39m\u001b[92m+ LinearAlgebra\u001b[39m\n",
      " \u001b[90m [d6f4376e] \u001b[39m\u001b[92m+ Markdown\u001b[39m\n",
      " \u001b[90m [a63ad114] \u001b[39m\u001b[92m+ Mmap\u001b[39m\n",
      " \u001b[90m [de0858da] \u001b[39m\u001b[92m+ Printf\u001b[39m\n",
      " \u001b[90m [9a3f8284] \u001b[39m\u001b[92m+ Random\u001b[39m\n",
      " \u001b[90m [ea8e919c] \u001b[39m\u001b[92m+ SHA\u001b[39m\n",
      " \u001b[90m [9e88b42a] \u001b[39m\u001b[92m+ Serialization\u001b[39m\n",
      " \u001b[90m [1a1011a3] \u001b[39m\u001b[92m+ SharedArrays\u001b[39m\n",
      " \u001b[90m [6462fe0b] \u001b[39m\u001b[92m+ Sockets\u001b[39m\n",
      " \u001b[90m [2f01184e] \u001b[39m\u001b[92m+ SparseArrays\u001b[39m\n",
      " \u001b[90m [10745b16] \u001b[39m\u001b[92m+ Statistics\u001b[39m\n",
      " \u001b[90m [cf7118a7] \u001b[39m\u001b[92m+ UUIDs\u001b[39m\n",
      " \u001b[90m [4ec0a83e] \u001b[39m\u001b[92m+ Unicode\u001b[39m\n",
      " \u001b[90m [e66e0078] \u001b[39m\u001b[92m+ CompilerSupportLibraries_jll\u001b[39m\n",
      " \u001b[90m [4536629a] \u001b[39m\u001b[92m+ OpenBLAS_jll\u001b[39m\n",
      " \u001b[90m [8e850b90] \u001b[39m\u001b[92m+ libblastrampoline_jll\u001b[39m\n",
      "\u001b[32m\u001b[1mPrecompiling\u001b[22m\u001b[39m project...\n",
      "\u001b[32m  ✓ \u001b[39m\u001b[90mCompat\u001b[39m\n",
      "\u001b[32m  ✓ \u001b[39m\u001b[90mArnoldiMethod\u001b[39m\n",
      "\u001b[32m  ✓ \u001b[39m\u001b[90mDataStructures\u001b[39m\n",
      "\u001b[32m  ✓ \u001b[39m\u001b[90mGraphs\u001b[39m\n",
      "\u001b[32m  ✓ \u001b[39mGraphIO\n",
      "  5 dependencies successfully precompiled in 9 seconds (9 already precompiled)\n"
     ]
    }
   ],
   "source": [
    "] add GraphIO"
   ]
  },
  {
   "cell_type": "code",
   "execution_count": 8,
   "id": "fb4bb5d6-cbe1-4866-bb28-9d91d6d55eba",
   "metadata": {},
   "outputs": [
    {
     "name": "stdout",
     "output_type": "stream",
     "text": [
      "\u001b[0m\u001b[1mTest Summary: | \u001b[22m\u001b[32m\u001b[1mPass  \u001b[22m\u001b[39m\u001b[36m\u001b[1mTotal\u001b[22m\u001b[39m\n",
      "GraphIO       | \u001b[32m 152  \u001b[39m\u001b[36m  152\u001b[39m\n"
     ]
    },
    {
     "name": "stderr",
     "output_type": "stream",
     "text": [
      "\u001b[32m\u001b[1m     Testing\u001b[22m\u001b[39m GraphIO\n",
      "\u001b[32m\u001b[1m      Status\u001b[22m\u001b[39m `/jobfs/45185993.gadi-pbs/jl_tMta6B/Project.toml`\n",
      " \u001b[90m [944b1d66] \u001b[39mCodecZlib v0.7.0\n",
      " \u001b[90m [8f5d6c58] \u001b[39mEzXML v1.1.0\n",
      " \u001b[90m [aa1b3936] \u001b[39mGraphIO v0.6.0\n",
      " \u001b[90m [86223c79] \u001b[39mGraphs v1.5.0\n",
      " \u001b[90m [fae87a5f] \u001b[39mParserCombinator v2.1.1\n",
      " \u001b[90m [ae029012] \u001b[39mRequires v1.3.0\n",
      " \u001b[90m [699a6c99] \u001b[39mSimpleTraits v0.9.4\n",
      " \u001b[90m [8bb1440f] \u001b[39mDelimitedFiles `@stdlib/DelimitedFiles`\n",
      " \u001b[90m [8dfed614] \u001b[39mTest `@stdlib/Test`\n",
      "\u001b[32m\u001b[1m      Status\u001b[22m\u001b[39m `/jobfs/45185993.gadi-pbs/jl_tMta6B/Manifest.toml`\n",
      " \u001b[90m [ec485272] \u001b[39mArnoldiMethod v0.2.0\n",
      " \u001b[90m [15f4f7f2] \u001b[39mAutoHashEquals v0.2.0\n",
      " \u001b[90m [944b1d66] \u001b[39mCodecZlib v0.7.0\n",
      " \u001b[90m [34da2185] \u001b[39mCompat v4.1.0\n",
      " \u001b[90m [864edb3b] \u001b[39mDataStructures v0.18.13\n",
      " \u001b[90m [8f5d6c58] \u001b[39mEzXML v1.1.0\n",
      " \u001b[90m [aa1b3936] \u001b[39mGraphIO v0.6.0\n",
      " \u001b[90m [86223c79] \u001b[39mGraphs v1.5.0\n",
      " \u001b[90m [d25df0c9] \u001b[39mInflate v0.1.2\n",
      " \u001b[90m [692b3bcd] \u001b[39mJLLWrappers v1.4.1\n",
      " \u001b[90m [1914dd2f] \u001b[39mMacroTools v0.5.9\n",
      " \u001b[90m [bac558e1] \u001b[39mOrderedCollections v1.4.1\n",
      " \u001b[90m [fae87a5f] \u001b[39mParserCombinator v2.1.1\n",
      " \u001b[90m [21216c6a] \u001b[39mPreferences v1.3.0\n",
      " \u001b[90m [ae029012] \u001b[39mRequires v1.3.0\n",
      " \u001b[90m [699a6c99] \u001b[39mSimpleTraits v0.9.4\n",
      " \u001b[90m [90137ffa] \u001b[39mStaticArrays v1.4.6\n",
      " \u001b[90m [3bb67fe8] \u001b[39mTranscodingStreams v0.9.6\n",
      " \u001b[90m [94ce4f54] \u001b[39mLibiconv_jll v1.16.1+1\n",
      " \u001b[90m [02c8fc9c] \u001b[39mXML2_jll v2.9.14+0\n",
      " \u001b[90m [0dad84c5] \u001b[39mArgTools `@stdlib/ArgTools`\n",
      " \u001b[90m [56f22d72] \u001b[39mArtifacts `@stdlib/Artifacts`\n",
      " \u001b[90m [2a0f44e3] \u001b[39mBase64 `@stdlib/Base64`\n",
      " \u001b[90m [ade2ca70] \u001b[39mDates `@stdlib/Dates`\n",
      " \u001b[90m [8bb1440f] \u001b[39mDelimitedFiles `@stdlib/DelimitedFiles`\n",
      " \u001b[90m [8ba89e20] \u001b[39mDistributed `@stdlib/Distributed`\n",
      " \u001b[90m [f43a241f] \u001b[39mDownloads `@stdlib/Downloads`\n",
      " \u001b[90m [b77e0a4c] \u001b[39mInteractiveUtils `@stdlib/InteractiveUtils`\n",
      " \u001b[90m [b27032c2] \u001b[39mLibCURL `@stdlib/LibCURL`\n",
      " \u001b[90m [76f85450] \u001b[39mLibGit2 `@stdlib/LibGit2`\n",
      " \u001b[90m [8f399da3] \u001b[39mLibdl `@stdlib/Libdl`\n",
      " \u001b[90m [37e2e46d] \u001b[39mLinearAlgebra `@stdlib/LinearAlgebra`\n",
      " \u001b[90m [56ddb016] \u001b[39mLogging `@stdlib/Logging`\n",
      " \u001b[90m [d6f4376e] \u001b[39mMarkdown `@stdlib/Markdown`\n",
      " \u001b[90m [a63ad114] \u001b[39mMmap `@stdlib/Mmap`\n",
      " \u001b[90m [ca575930] \u001b[39mNetworkOptions `@stdlib/NetworkOptions`\n",
      " \u001b[90m [44cfe95a] \u001b[39mPkg `@stdlib/Pkg`\n",
      " \u001b[90m [de0858da] \u001b[39mPrintf `@stdlib/Printf`\n",
      " \u001b[90m [3fa0cd96] \u001b[39mREPL `@stdlib/REPL`\n",
      " \u001b[90m [9a3f8284] \u001b[39mRandom `@stdlib/Random`\n",
      " \u001b[90m [ea8e919c] \u001b[39mSHA `@stdlib/SHA`\n",
      " \u001b[90m [9e88b42a] \u001b[39mSerialization `@stdlib/Serialization`\n",
      " \u001b[90m [1a1011a3] \u001b[39mSharedArrays `@stdlib/SharedArrays`\n",
      " \u001b[90m [6462fe0b] \u001b[39mSockets `@stdlib/Sockets`\n",
      " \u001b[90m [2f01184e] \u001b[39mSparseArrays `@stdlib/SparseArrays`\n",
      " \u001b[90m [10745b16] \u001b[39mStatistics `@stdlib/Statistics`\n",
      " \u001b[90m [fa267f1f] \u001b[39mTOML `@stdlib/TOML`\n",
      " \u001b[90m [a4e569a6] \u001b[39mTar `@stdlib/Tar`\n",
      " \u001b[90m [8dfed614] \u001b[39mTest `@stdlib/Test`\n",
      " \u001b[90m [cf7118a7] \u001b[39mUUIDs `@stdlib/UUIDs`\n",
      " \u001b[90m [4ec0a83e] \u001b[39mUnicode `@stdlib/Unicode`\n",
      " \u001b[90m [e66e0078] \u001b[39mCompilerSupportLibraries_jll `@stdlib/CompilerSupportLibraries_jll`\n",
      " \u001b[90m [deac9b47] \u001b[39mLibCURL_jll `@stdlib/LibCURL_jll`\n",
      " \u001b[90m [29816b5a] \u001b[39mLibSSH2_jll `@stdlib/LibSSH2_jll`\n",
      " \u001b[90m [c8ffd9c3] \u001b[39mMbedTLS_jll `@stdlib/MbedTLS_jll`\n",
      " \u001b[90m [14a3606d] \u001b[39mMozillaCACerts_jll `@stdlib/MozillaCACerts_jll`\n",
      " \u001b[90m [4536629a] \u001b[39mOpenBLAS_jll `@stdlib/OpenBLAS_jll`\n",
      " \u001b[90m [83775a58] \u001b[39mZlib_jll `@stdlib/Zlib_jll`\n",
      " \u001b[90m [8e850b90] \u001b[39mlibblastrampoline_jll `@stdlib/libblastrampoline_jll`\n",
      " \u001b[90m [8e850ede] \u001b[39mnghttp2_jll `@stdlib/nghttp2_jll`\n",
      " \u001b[90m [3f19e933] \u001b[39mp7zip_jll `@stdlib/p7zip_jll`\n",
      "\u001b[32m\u001b[1m     Testing\u001b[22m\u001b[39m Running tests...\n",
      "\u001b[33m\u001b[1m┌ \u001b[22m\u001b[39m\u001b[33m\u001b[1mWarning: \u001b[22m\u001b[39mSkipping unknown XML element 'warnelement' - further warnings will be suppressed\n",
      "\u001b[33m\u001b[1m└ \u001b[22m\u001b[39m\u001b[90m@ GraphIO.GraphML /g/data/z00/.julia/packages/GraphIO/x37Ru/src/GraphML/GraphML.jl:92\u001b[39m\n",
      "\u001b[33m\u001b[1m┌ \u001b[22m\u001b[39m\u001b[33m\u001b[1mWarning: \u001b[22m\u001b[39mSkipping unknown node 'warnnode' - further warnings will be suppressed\n",
      "\u001b[33m\u001b[1m└ \u001b[22m\u001b[39m\u001b[90m@ GraphIO.GraphML /g/data/z00/.julia/packages/GraphIO/x37Ru/src/GraphML/GraphML.jl:31\u001b[39m\n",
      "\u001b[32m\u001b[1m     Testing\u001b[22m\u001b[39m GraphIO tests passed \n"
     ]
    }
   ],
   "source": [
    "] test GraphIO"
   ]
  },
  {
   "cell_type": "markdown",
   "id": "84734739-a2c9-437c-825b-a32f485454ce",
   "metadata": {},
   "source": [
    "## Use Existing Environments\n",
    "\n",
    "It is possible to point to an existing environment and simply use all its packages, no matter if it allows modifications or not. \n",
    "\n",
    "Actually, removal of the write permission after installation finishes is a ***good*** practice. It prevents any unintentional modifications to the environment and provide the best consistency over time."
   ]
  },
  {
   "cell_type": "code",
   "execution_count": 9,
   "id": "11c35584-de4e-4638-a8d4-a301b10bba94",
   "metadata": {},
   "outputs": [
    {
     "data": {
      "text/plain": [
       "3-element Vector{String}:\n",
       " \"/g/data/z00/.julia_nomodifications\"\n",
       " \"/g/data/z00/.julia\"\n",
       " \"/opt/julia\""
      ]
     },
     "execution_count": 9,
     "metadata": {},
     "output_type": "execute_result"
    }
   ],
   "source": [
    "pushfirst!(DEPOT_PATH,\"/g/data/z00/.julia_nomodifications\")"
   ]
  },
  {
   "cell_type": "markdown",
   "id": "c491f1cc-af8c-4908-965d-302072d77db7",
   "metadata": {},
   "source": [
    "However, to work with such an environment, there are chances that their packages need to be recompiled, and because the environment allows no modifications, it is necessary to name a location to host compiled files and logs. "
   ]
  },
  {
   "cell_type": "code",
   "execution_count": 10,
   "id": "d4b50ff4-4ed6-450b-94ef-d3999719ac36",
   "metadata": {},
   "outputs": [
    {
     "name": "stderr",
     "output_type": "stream",
     "text": [
      "┌ Info: Precompiling GraphIO [aa1b3936-2fda-51b9-ab35-c553d3a640a2]\n",
      "└ @ Base loading.jl:1423\n"
     ]
    },
    {
     "ename": "LoadError",
     "evalue": "IOError: mkdir(\"/g/data/z00/.julia_nomodifications/compiled\"; mode=0o777): permission denied (EACCES)",
     "output_type": "error",
     "traceback": [
      "IOError: mkdir(\"/g/data/z00/.julia_nomodifications/compiled\"; mode=0o777): permission denied (EACCES)",
      "",
      "Stacktrace:",
      "  [1] uv_error",
      "    @ ./libuv.jl:97 [inlined]",
      "  [2] mkdir(path::String; mode::UInt16)",
      "    @ Base.Filesystem ./file.jl:183",
      "  [3] mkpath(path::String; mode::UInt16)",
      "    @ Base.Filesystem ./file.jl:234",
      "  [4] mkpath(path::String; mode::UInt16) (repeats 2 times)",
      "    @ Base.Filesystem ./file.jl:232",
      "  [5] mkpath",
      "    @ ./file.jl:229 [inlined]",
      "  [6] compilecache(pkg::Base.PkgId, path::String, internal_stderr::IO, internal_stdout::IO, ignore_loaded_modules::Bool)",
      "    @ Base ./loading.jl:1427",
      "  [7] compilecache(pkg::Base.PkgId, path::String)",
      "    @ Base ./loading.jl:1410",
      "  [8] _require(pkg::Base.PkgId)",
      "    @ Base ./loading.jl:1120",
      "  [9] require(uuidkey::Base.PkgId)",
      "    @ Base ./loading.jl:1013",
      " [10] require(into::Module, mod::Symbol)",
      "    @ Base ./loading.jl:997",
      " [11] eval",
      "    @ ./boot.jl:373 [inlined]",
      " [12] include_string(mapexpr::typeof(REPL.softscope), mod::Module, code::String, filename::String)",
      "    @ Base ./loading.jl:1196"
     ]
    }
   ],
   "source": [
    "using GraphIO"
   ]
  },
  {
   "cell_type": "markdown",
   "id": "af14d70c-f690-460f-8441-b1e686829bdd",
   "metadata": {},
   "source": [
    "We use the empty directory `~/.julia`, which doesn't even exist yet, to host those files by adding it as the first element of `DEPOT_PATH`. "
   ]
  },
  {
   "cell_type": "code",
   "execution_count": 11,
   "id": "15d9e2a3-5a8f-4bef-b1ba-5c5ba1c3ad96",
   "metadata": {},
   "outputs": [
    {
     "name": "stderr",
     "output_type": "stream",
     "text": [
      "ls: cannot access '/home/900/yxs900/.julia': No such file or directory\n"
     ]
    }
   ],
   "source": [
    "; bash -c \"ls -l \\$HOME/.julia\""
   ]
  },
  {
   "cell_type": "code",
   "execution_count": 12,
   "id": "57f1fe61-c7a4-4b09-9d53-6bc769b5de82",
   "metadata": {},
   "outputs": [
    {
     "data": {
      "text/plain": [
       "4-element Vector{String}:\n",
       " \"/home/900/yxs900/.julia\"\n",
       " \"/g/data/z00/.julia_nomodifications\"\n",
       " \"/g/data/z00/.julia\"\n",
       " \"/opt/julia\""
      ]
     },
     "execution_count": 12,
     "metadata": {},
     "output_type": "execute_result"
    }
   ],
   "source": [
    "pushfirst!(DEPOT_PATH,joinpath(ENV[\"HOME\"],\".julia\"))"
   ]
  },
  {
   "cell_type": "markdown",
   "id": "c09bb1c0-d9d5-48fa-b6dc-a3e57375efab",
   "metadata": {},
   "source": [
    "Because there is no `environments/v1.7/Project.toml` file inside the directory `~/.julia`, Julia still reads packages from the second path in `DEPOT_PATH` while writes the compiled packages to `~/.julia`."
   ]
  },
  {
   "cell_type": "code",
   "execution_count": 13,
   "id": "e353ccbd-c1cb-47fb-8aa9-4f28252f286c",
   "metadata": {},
   "outputs": [
    {
     "name": "stdout",
     "output_type": "stream",
     "text": [
      "\u001b[32m\u001b[1m      Status\u001b[22m\u001b[39m `/g/data/z00/.julia_nomodifications/environments/v1.7/Project.toml`\n",
      " \u001b[90m [aa1b3936] \u001b[39mGraphIO v0.6.0\n"
     ]
    }
   ],
   "source": [
    "] st"
   ]
  },
  {
   "cell_type": "code",
   "execution_count": 14,
   "id": "529bd49a-8ba3-47f9-ac33-9c6e5db476d8",
   "metadata": {},
   "outputs": [
    {
     "name": "stderr",
     "output_type": "stream",
     "text": [
      "┌ Info: Precompiling GraphIO [aa1b3936-2fda-51b9-ab35-c553d3a640a2]\n",
      "└ @ Base loading.jl:1423\n"
     ]
    }
   ],
   "source": [
    "using GraphIO"
   ]
  },
  {
   "cell_type": "markdown",
   "id": "3f8fd332-f3a5-48c2-a1f4-a0b4054446f9",
   "metadata": {},
   "source": [
    "After the package is compiled, it is kept inside `~/.julia/compiled` and the corresponding log files in `~/.julia/logs`."
   ]
  },
  {
   "cell_type": "code",
   "execution_count": 15,
   "id": "7bb5dccc-bcf7-41c7-9a29-1cce3402c68c",
   "metadata": {},
   "outputs": [
    {
     "name": "stdout",
     "output_type": "stream",
     "text": [
      "total 8\n",
      "drwxr-xr-x 3 yxs900 fp0 4096 Jun 23 14:58 compiled\n",
      "drwxr-xr-x 2 yxs900 fp0 4096 Jun 23 14:58 logs\n"
     ]
    }
   ],
   "source": [
    "; bash -c \"ls -l \\$HOME/.julia\""
   ]
  }
 ],
 "metadata": {
  "kernelspec": {
   "display_name": "Julia 1.7.2 [conda env:datasci] *",
   "language": "julia",
   "name": "conda-env-datasci-julia-1.7"
  },
  "language_info": {
   "file_extension": ".jl",
   "mimetype": "application/julia",
   "name": "julia",
   "version": "1.7.2"
  }
 },
 "nbformat": 4,
 "nbformat_minor": 5
}

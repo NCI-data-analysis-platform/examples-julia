{
 "cells": [
  {
   "cell_type": "markdown",
   "id": "53826164",
   "metadata": {},
   "source": [
    "# Embarrassingly Parallel\n",
    "\n",
    "Julia is built to run fast. It has parallel paradigms built in its core. Let's have a look at the simplest one to use: embarrassingly parallel. \n",
    "\n",
    "First we prepare the environment by making all the exported symbols, types and functions defined in two modules, `BenchmarkTools` and `Distributed` searchable. For example the function `addprocs` is defined in `Distributed` and it can be called directly from the REPL once `using Distributed` is executed.\n",
    "\n",
    "`addprocs(4)` adds four worker processes and the macro `@everywhere`, again defined in `Distributed`, executes `using LinearAlgebra` in all these four processes so that all the names exported from `LinearAlgebra` are made available to all the worker processes."
   ]
  },
  {
   "cell_type": "code",
   "execution_count": 1,
   "id": "390ba2c3",
   "metadata": {},
   "outputs": [],
   "source": [
    "using BenchmarkTools,Distributed,VegaLite,Colors\n",
    "addprocs(4);\n",
    "@everywhere using LinearAlgebra"
   ]
  },
  {
   "cell_type": "markdown",
   "id": "134e791e",
   "metadata": {},
   "source": [
    "## pmap\n",
    "\n",
    "Let's try out the first Julia function that launches an embarrassingly parallel task in a single line.\n",
    "\n",
    "`pmap` transforms collections such as vectors like `Float64[1,2,3]` and unit ranges like `1:10` by applying a function to all their elements using available workers and tasks.\n",
    "\n",
    "It assumes the function has been made available to all workers and in the following example, `@everywhere` execute the function definition on all the four workers before calling it from the `pmap` function."
   ]
  },
  {
   "cell_type": "code",
   "execution_count": 2,
   "id": "c3995c96",
   "metadata": {
    "scrolled": true
   },
   "outputs": [
    {
     "name": "stdout",
     "output_type": "stream",
     "text": [
      "pp[1:10] = [4, 9, 16, 25, 36, 49, 64, 81, 100, 121]\n"
     ]
    }
   ],
   "source": [
    "@everywhere f(x) = x^2+2x+1\n",
    "pp = pmap(f,1:10^3);\n",
    "@show pp[1:10];"
   ]
  },
  {
   "cell_type": "markdown",
   "id": "93bdea1b",
   "metadata": {},
   "source": [
    "It is also possible to pass it as an anonymous function without using `@everywhere`."
   ]
  },
  {
   "cell_type": "code",
   "execution_count": 3,
   "id": "7a6d7df4",
   "metadata": {},
   "outputs": [
    {
     "name": "stdout",
     "output_type": "stream",
     "text": [
      "rr[1:10] = [4, 9, 16, 25, 36, 49, 64, 81, 100, 121]\n"
     ]
    }
   ],
   "source": [
    "rr = pmap(x->x^2+2x+1,1:10^3);\n",
    "@show rr[1:10];"
   ]
  },
  {
   "cell_type": "markdown",
   "id": "99c20440",
   "metadata": {},
   "source": [
    "Unfortunately, in the above two examples, if any error occurs on any worker, the entire `pmap` task stops. Try `pmap(x->log10(x),rand(-10:10,3))` and see what happens.\n",
    "\n",
    "`pmap` handles the possible exceptions gracefully by taking an argument called `on_error`. It allows to pass exceptions to the result collection so that the parallel task continues or to rethrow the error to the caller.  "
   ]
  },
  {
   "cell_type": "code",
   "execution_count": 4,
   "id": "d2d99d0c",
   "metadata": {
    "scrolled": true
   },
   "outputs": [
    {
     "data": {
      "text/plain": [
       "3-element Vector{Tuple{Real, Any}}:\n",
       " (-3.0, nothing)\n",
       " (4, 0.6020599913279624)\n",
       " (-5.0, nothing)"
      ]
     },
     "execution_count": 4,
     "metadata": {},
     "output_type": "execute_result"
    }
   ],
   "source": [
    "pmap(x->(x,log10(x)),rand(-10:10,3),on_error=identity)\n",
    "pmap(x->(x,log10(x)),rand(-10:10,3),on_error=e->e)\n",
    "pmap(x->(x,log10(x)),rand(-10:10,3),on_error=e->isa(e,DomainError) ? (e.val,nothing) : rethrow() )"
   ]
  },
  {
   "cell_type": "markdown",
   "id": "3857349d",
   "metadata": {},
   "source": [
    "To handle errors that may be fixed by retires,for example HTTP connection timeout,  `pmap` allows specific definition of the retry behavior such as the number of retries and seconds between retries. In the following example, there is a small chance, ~9%, that in at least one of the worker processes `log10` receives the input of `-1` and runs into DomainError which stops the entire `pmap` task. By allowing three retries, it reduces that chance of failure to ~ 7.5$\\unicode{x2031}$."
   ]
  },
  {
   "cell_type": "code",
   "execution_count": 5,
   "id": "92c7e0bb",
   "metadata": {
    "scrolled": true
   },
   "outputs": [
    {
     "data": {
      "text/plain": [
       "3-element Vector{Tuple{Int64, Float64}}:\n",
       " (13, 1.1139433523068367)\n",
       " (9, 0.9542425094393249)\n",
       " (14, 1.146128035678238)"
      ]
     },
     "execution_count": 5,
     "metadata": {},
     "output_type": "execute_result"
    }
   ],
   "source": [
    "pmap(x->(x,log10(x)),rand(-1:30,3),retry_delays = ExponentialBackOff(n = 3))"
   ]
  },
  {
   "cell_type": "markdown",
   "id": "25ec88fa",
   "metadata": {},
   "source": [
    "### Things to Try\n",
    "\n",
    "1. Understand the retry behavior defined by `ExponentialBackOff(n = 3)`. \n",
    "1. Explore the arguments `batch_size` and `retry_delays`.\n",
    "1. Try both `on_error` and `retry_delays` in the same pmap call."
   ]
  },
  {
   "cell_type": "markdown",
   "id": "2bdfdde1",
   "metadata": {},
   "source": [
    "## Parallel For Loop @distributed\n",
    "\n",
    "Another way to launch an embarrassingly parallel task is to wrap it in a parallel for loop using the @distributed macro.\n",
    "\n",
    "To run the same task as shown in the first two `pmap` examples, simply add the macro `@distributed` with a reducer function in front of the for loop like the following."
   ]
  },
  {
   "cell_type": "code",
   "execution_count": 6,
   "id": "d32800f8",
   "metadata": {},
   "outputs": [
    {
     "name": "stdout",
     "output_type": "stream",
     "text": [
      "qq[1:10] = [4, 9, 16, 25, 36, 49, 64, 81, 100, 121]\n"
     ]
    }
   ],
   "source": [
    "qq = @distributed (append!) for x in 1:10^3\n",
    "    [x^2+2x+1]\n",
    "end;\n",
    "@show qq[1:10];"
   ]
  },
  {
   "cell_type": "markdown",
   "id": "5e554542",
   "metadata": {},
   "source": [
    "### Reducers\n",
    "The reducer used in the above parallel loop example is `append!` which collects all the return values into a single vector, other popular ones are `+` and `vcat`. One can even define their own reducer functions. The reducer functions must satisfy the following two conditions:\n",
    "\n",
    "1. it can take two input arguments\n",
    "1. its input and return type are identical\n"
   ]
  },
  {
   "cell_type": "code",
   "execution_count": 7,
   "id": "0311999f",
   "metadata": {
    "scrolled": true
   },
   "outputs": [
    {
     "name": "stdout",
     "output_type": "stream",
     "text": [
      "(xx, yy) = ([4, 9, 16, 25, 36, 49, 64, 81, 100, 121], [4, 9, 16, 25, 36, 49, 64, 81, 100, 121])\n"
     ]
    }
   ],
   "source": [
    "@everywhere f(a,b)=[a...;b]\n",
    "xx = @distributed (f) for x in 1:10\n",
    "    x^2+2x+1\n",
    "end;\n",
    "\n",
    "yy = @distributed ((a,b)->[a...;b]) for x in 1:10\n",
    "    x^2+2x+1\n",
    "end;\n",
    "\n",
    "@show xx, yy;"
   ]
  },
  {
   "cell_type": "markdown",
   "id": "2d4b1778",
   "metadata": {},
   "source": [
    "### Things to Try\n",
    "\n",
    "1. Use the reducer function g(a,b)=(a,b,\"tag\") to understand how the reduction happens across all available workers.\n",
    "1. Define a reducer function that takes two values from each subtask and return to a tuple whose first element is the sum of all first values and the second element is the multiplication of all the second values.\n",
    "1. Handle exceptions in the `@distributed` for loop so that it retries when the DomainError occurs."
   ]
  },
  {
   "cell_type": "markdown",
   "id": "802a9b08",
   "metadata": {},
   "source": [
    "## Comparison \n",
    "\n",
    "Both `pmap` and `@distributed` can be used to launch parallel tasks that require no communications. Sometimes it is more feasible to use one rather than the other.\n",
    "\n",
    "We have demonstrated that when using `pmap`, the return value has to be an array with the same size/shape of the input value while the parallel for loop allows reductions and therefore the type of the return value can be more flexible.\n",
    "\n",
    "However, there is more to consider when choosing which one to use. \n",
    "\n",
    "### Static Vs Dynamic Scheduling\n",
    "\n",
    "First of all, the `@distributed` for loop statically schedules its workload while `pmap` uses dynamic scheduling. When the parallel for loop decides which subtask to send to which worker, it divides the total workload into equal partitions and dispatches each partition to one worker process with the assumption that the workloads in every iterations are the same. In the contrary, `pmap` keeps launching subtasks in a way that it sends one batch of subtasks to a worker at a time and only stops when either there is nothing left to do or there is no idling worker available. \n",
    "\n",
    "The scheduling difference can lead to very long execution time for the `@distributed` loop because in extreme cases one worker can be busy running all subtasks while other workers are idling. The `pmap` dynamic scheduler to some extend is immune to this workload imbalance. \n",
    "\n",
    "For example, if the number of long subtasks is no greater than the number of workers, as shown below, `pmap` can potentially save execution walltime by keeping as many workers busy as possible. "
   ]
  },
  {
   "cell_type": "code",
   "execution_count": 8,
   "id": "4fb2509e",
   "metadata": {},
   "outputs": [
    {
     "name": "stdout",
     "output_type": "stream",
     "text": [
      "tt = [2; 2; 2; 0.1:0.1:0.9] = [2.0, 2.0, 2.0, 0.1, 0.2, 0.3, 0.4, 0.5, 0.6, 0.7, 0.8, 0.9]\n",
      "tlimit = sum(tt) / nworkers() = 2.625\n",
      "  3.443542 seconds (967.31 k allocations: 54.631 MiB, 0.42% gc time, 14.32% compilation time)\n",
      "  6.409858 seconds (326.76 k allocations: 17.866 MiB, 0.51% gc time, 4.20% compilation time)\n"
     ]
    }
   ],
   "source": [
    "@show tt = [2;2;2;0.1:0.1:0.9]\n",
    "@show tlimit = sum(tt)/nworkers()\n",
    "t0 = time()\n",
    "@time t1 = pmap(x -> begin start=time();sleep(x); stop=time(); id=myid();(worker=id,start=start-t0,stop=stop-t0) end,tt);\n",
    "t0 = time()\n",
    "@time t2 = @distributed (append!) for ti in tt\n",
    "                 start=time()\n",
    "                 sleep(ti)\n",
    "                 stop=time()\n",
    "                 id=myid()\n",
    "                 [(worker=id,start=start-t0,stop=stop-t0)]\n",
    "end;"
   ]
  },
  {
   "cell_type": "markdown",
   "id": "2af23b9b",
   "metadata": {},
   "source": [
    "To visualize the scheduling, we plot the twelve tasks, each in a different color, from dark red to dark blue, in sequence, in the row of their corresponding executing worker. For example, the first sleep-2-seconds task shown as the dark red bar is followed by a shorter blue bar in the same row in the `pmap scheduling` subplot means that that worker after executing the first sleep-2-seconds task takes another shorter task."
   ]
  },
  {
   "cell_type": "code",
   "execution_count": 9,
   "id": "000aabe9-08e0-4f98-b88f-8ae2d04f73fd",
   "metadata": {
    "tags": []
   },
   "outputs": [
    {
     "data": {
      "application/vnd.vegalite.v4+json": {
       "columns": 2,
       "vconcat": [
        {
         "data": {
          "values": [
           {
            "color": "#610102",
            "start": 0.4107229709625244,
            "stop": 2.4138340950012207,
            "worker": 4
           },
           {
            "color": "#B32821",
            "start": 0.40497303009033203,
            "stop": 2.408087968826294,
            "worker": 5
           },
           {
            "color": "#E85B4C",
            "start": 0.41610097885131836,
            "stop": 2.419166088104248,
            "worker": 2
           },
           {
            "color": "#FF8D7B",
            "start": 0.4119710922241211,
            "stop": 0.5131869316101074,
            "worker": 3
           },
           {
            "color": "#FFB7A8",
            "start": 0.6538569927215576,
            "stop": 0.8551650047302246,
            "worker": 3
           },
           {
            "color": "#FFDAD0",
            "start": 0.8556361198425293,
            "stop": 1.1570560932159424,
            "worker": 3
           },
           {
            "color": "#CDE9FA",
            "start": 1.157576084136963,
            "stop": 1.5590999126434326,
            "worker": 3
           },
           {
            "color": "#A3D2F3",
            "start": 1.5596590042114258,
            "stop": 2.061275005340576,
            "worker": 3
           },
           {
            "color": "#76B4E8",
            "start": 2.0617480278015137,
            "stop": 2.663461923599243,
            "worker": 3
           },
           {
            "color": "#4A8DD0",
            "start": 2.4835879802703857,
            "stop": 3.1853599548339844,
            "worker": 5
           },
           {
            "color": "#275FA2",
            "start": 2.4902210235595703,
            "stop": 3.2921230792999268,
            "worker": 4
           },
           {
            "color": "#082C59",
            "start": 2.493411064147949,
            "stop": 3.395414113998413,
            "worker": 2
           }
          ]
         },
         "encoding": {
          "color": {
           "field": "color",
           "scale": null,
           "type": "nominal"
          },
          "x": {
           "field": "start",
           "type": "quantitative"
          },
          "x2": {
           "field": "stop",
           "type": "quantitative"
          },
          "y": {
           "field": "worker",
           "type": "ordinal"
          }
         },
         "mark": "bar",
         "title": "pmap scheduling",
         "view": {
          "fill": "floralwhite"
         }
        },
        {
         "data": {
          "values": [
           {
            "color": "#610102",
            "start": 0.23029804229736328,
            "stop": 2.2333788871765137,
            "worker": 2
           },
           {
            "color": "#B32821",
            "start": 2.258910894393921,
            "stop": 4.262049913406372,
            "worker": 2
           },
           {
            "color": "#E85B4C",
            "start": 4.294378995895386,
            "stop": 6.297482013702393,
            "worker": 2
           },
           {
            "color": "#FF8D7B",
            "start": 0.24469494819641113,
            "stop": 0.34591007232666016,
            "worker": 3
           },
           {
            "color": "#FFB7A8",
            "start": 0.3603239059448242,
            "stop": 0.5616378784179688,
            "worker": 3
           },
           {
            "color": "#FFDAD0",
            "start": 0.593101978302002,
            "stop": 0.8945250511169434,
            "worker": 3
           },
           {
            "color": "#CDE9FA",
            "start": 0.24003005027770996,
            "stop": 0.6415410041809082,
            "worker": 4
           },
           {
            "color": "#A3D2F3",
            "start": 0.6665279865264893,
            "stop": 1.1681430339813232,
            "worker": 4
           },
           {
            "color": "#76B4E8",
            "start": 1.1870648860931396,
            "stop": 1.7887580394744873,
            "worker": 4
           },
           {
            "color": "#4A8DD0",
            "start": 0.23580098152160645,
            "stop": 0.9376020431518555,
            "worker": 5
           },
           {
            "color": "#275FA2",
            "start": 0.9514930248260498,
            "stop": 1.753396987915039,
            "worker": 5
           },
           {
            "color": "#082C59",
            "start": 1.7839200496673584,
            "stop": 2.685930013656616,
            "worker": 5
           }
          ]
         },
         "encoding": {
          "color": {
           "field": "color",
           "scale": null,
           "type": "nominal"
          },
          "x": {
           "field": "start",
           "type": "quantitative"
          },
          "x2": {
           "field": "stop",
           "type": "quantitative"
          },
          "y": {
           "field": "worker",
           "type": "ordinal"
          }
         },
         "mark": "bar",
         "title": "@distributed scheduling",
         "view": {
          "fill": "floralwhite"
         }
        }
       ],
       "width": 600
      },
      "image/png": "[encoded data removed]",
      "image/svg+xml": [
       "<?xml version=\"1.0\" encoding=\"utf-8\"?>\n",
       "<!DOCTYPE svg PUBLIC \"-//W3C//DTD SVG 1.1//EN\" \"http://www.w3.org/Graphics/SVG/1.1/DTD/svg11.dtd\">\n",
       "<svg xmlns=\"http://www.w3.org/2000/svg\" xmlns:xlink=\"http://www.w3.org/1999/xlink\" version=\"1.1\" class=\"marks\" width=\"491\" height=\"141\" viewBox=\"0 0 491 141\"><rect width=\"491\" height=\"141\" fill=\"white\"/><g fill=\"none\" stroke-miterlimit=\"10\" transform=\"translate(34,23)\"><g class=\"mark-group role-frame root\" role=\"graphics-object\" aria-roledescription=\"group mark container\"><g transform=\"translate(0,0)\"><path class=\"background\" aria-hidden=\"true\" d=\"M0,0h0v0h0Z\"/><g><g class=\"mark-group role-scope concat_0_group\" role=\"graphics-object\" aria-roledescription=\"group mark container\"><g transform=\"translate(0,0)\"><path class=\"background\" aria-hidden=\"true\" d=\"M0.5,0.5h200v80h-200Z\" fill=\"floralwhite\" stroke=\"#ddd\"/><g><g class=\"mark-group role-axis\" aria-hidden=\"true\"><g transform=\"translate(0.5,80.5)\"><path class=\"background\" aria-hidden=\"true\" d=\"M0,0h0v0h0Z\" pointer-events=\"none\"/><g><g class=\"mark-rule role-axis-grid\" pointer-events=\"none\"><line transform=\"translate(0,0)\" x2=\"0\" y2=\"-80\" stroke=\"#ddd\" stroke-width=\"1\" opacity=\"1\"/><line transform=\"translate(29,0)\" x2=\"0\" y2=\"-80\" stroke=\"#ddd\" stroke-width=\"1\" opacity=\"1\"/><line transform=\"translate(57,0)\" x2=\"0\" y2=\"-80\" stroke=\"#ddd\" stroke-width=\"1\" opacity=\"1\"/><line transform=\"translate(86,0)\" x2=\"0\" y2=\"-80\" stroke=\"#ddd\" stroke-width=\"1\" opacity=\"1\"/><line transform=\"translate(114,0)\" x2=\"0\" y2=\"-80\" stroke=\"#ddd\" stroke-width=\"1\" opacity=\"1\"/><line transform=\"translate(143,0)\" x2=\"0\" y2=\"-80\" stroke=\"#ddd\" stroke-width=\"1\" opacity=\"1\"/><line transform=\"translate(171,0)\" x2=\"0\" y2=\"-80\" stroke=\"#ddd\" stroke-width=\"1\" opacity=\"1\"/><line transform=\"translate(200,0)\" x2=\"0\" y2=\"-80\" stroke=\"#ddd\" stroke-width=\"1\" opacity=\"1\"/></g></g><path class=\"foreground\" aria-hidden=\"true\" d=\"\" pointer-events=\"none\" display=\"none\"/></g></g><g class=\"mark-group role-axis\" role=\"graphics-symbol\" aria-roledescription=\"axis\" aria-label=\"X-axis titled 'start, stop' for a linear scale with values from 0.0 to 3.5\"><g transform=\"translate(0.5,80.5)\"><path class=\"background\" aria-hidden=\"true\" d=\"M0,0h0v0h0Z\" pointer-events=\"none\"/><g><g class=\"mark-rule role-axis-tick\" pointer-events=\"none\"><line transform=\"translate(0,0)\" x2=\"0\" y2=\"5\" stroke=\"#888\" stroke-width=\"1\" opacity=\"1\"/><line transform=\"translate(29,0)\" x2=\"0\" y2=\"5\" stroke=\"#888\" stroke-width=\"1\" opacity=\"1\"/><line transform=\"translate(57,0)\" x2=\"0\" y2=\"5\" stroke=\"#888\" stroke-width=\"1\" opacity=\"1\"/><line transform=\"translate(86,0)\" x2=\"0\" y2=\"5\" stroke=\"#888\" stroke-width=\"1\" opacity=\"1\"/><line transform=\"translate(114,0)\" x2=\"0\" y2=\"5\" stroke=\"#888\" stroke-width=\"1\" opacity=\"1\"/><line transform=\"translate(143,0)\" x2=\"0\" y2=\"5\" stroke=\"#888\" stroke-width=\"1\" opacity=\"1\"/><line transform=\"translate(171,0)\" x2=\"0\" y2=\"5\" stroke=\"#888\" stroke-width=\"1\" opacity=\"1\"/><line transform=\"translate(200,0)\" x2=\"0\" y2=\"5\" stroke=\"#888\" stroke-width=\"1\" opacity=\"1\"/></g><g class=\"mark-text role-axis-label\" pointer-events=\"none\"><text text-anchor=\"start\" transform=\"translate(0,15)\" font-family=\"sans-serif\" font-size=\"10px\" fill=\"#000\" opacity=\"1\">0.0</text><text text-anchor=\"middle\" transform=\"translate(28.57142857142857,15)\" font-family=\"sans-serif\" font-size=\"10px\" fill=\"#000\" opacity=\"1\">0.5</text><text text-anchor=\"middle\" transform=\"translate(57.14285714285714,15)\" font-family=\"sans-serif\" font-size=\"10px\" fill=\"#000\" opacity=\"1\">1.0</text><text text-anchor=\"middle\" transform=\"translate(85.71428571428571,15)\" font-family=\"sans-serif\" font-size=\"10px\" fill=\"#000\" opacity=\"1\">1.5</text><text text-anchor=\"middle\" transform=\"translate(114.28571428571428,15)\" font-family=\"sans-serif\" font-size=\"10px\" fill=\"#000\" opacity=\"1\">2.0</text><text text-anchor=\"middle\" transform=\"translate(142.85714285714286,15)\" font-family=\"sans-serif\" font-size=\"10px\" fill=\"#000\" opacity=\"1\">2.5</text><text text-anchor=\"middle\" transform=\"translate(171.42857142857142,15)\" font-family=\"sans-serif\" font-size=\"10px\" fill=\"#000\" opacity=\"1\">3.0</text><text text-anchor=\"end\" transform=\"translate(200,15)\" font-family=\"sans-serif\" font-size=\"10px\" fill=\"#000\" opacity=\"1\">3.5</text></g><g class=\"mark-rule role-axis-domain\" pointer-events=\"none\"><line transform=\"translate(0,0)\" x2=\"200\" y2=\"0\" stroke=\"#888\" stroke-width=\"1\" opacity=\"1\"/></g><g class=\"mark-text role-axis-title\" pointer-events=\"none\"><text text-anchor=\"middle\" transform=\"translate(100,30)\" font-family=\"sans-serif\" font-size=\"11px\" font-weight=\"bold\" fill=\"#000\" opacity=\"1\">start, stop</text></g></g><path class=\"foreground\" aria-hidden=\"true\" d=\"\" pointer-events=\"none\" display=\"none\"/></g></g><g class=\"mark-group role-axis\" role=\"graphics-symbol\" aria-roledescription=\"axis\" aria-label=\"Y-axis titled 'worker' for a discrete scale with 4 values: 2, 3, 4, 5\"><g transform=\"translate(0.5,0.5)\"><path class=\"background\" aria-hidden=\"true\" d=\"M0,0h0v0h0Z\" pointer-events=\"none\"/><g><g class=\"mark-rule role-axis-tick\" pointer-events=\"none\"><line transform=\"translate(0,10)\" x2=\"-5\" y2=\"0\" stroke=\"#888\" stroke-width=\"1\" opacity=\"1\"/><line transform=\"translate(0,30)\" x2=\"-5\" y2=\"0\" stroke=\"#888\" stroke-width=\"1\" opacity=\"1\"/><line transform=\"translate(0,50)\" x2=\"-5\" y2=\"0\" stroke=\"#888\" stroke-width=\"1\" opacity=\"1\"/><line transform=\"translate(0,70)\" x2=\"-5\" y2=\"0\" stroke=\"#888\" stroke-width=\"1\" opacity=\"1\"/></g><g class=\"mark-text role-axis-label\" pointer-events=\"none\"><text text-anchor=\"end\" transform=\"translate(-7,12.5)\" font-family=\"sans-serif\" font-size=\"10px\" fill=\"#000\" opacity=\"1\">2</text><text text-anchor=\"end\" transform=\"translate(-7,32.5)\" font-family=\"sans-serif\" font-size=\"10px\" fill=\"#000\" opacity=\"1\">3</text><text text-anchor=\"end\" transform=\"translate(-7,52.5)\" font-family=\"sans-serif\" font-size=\"10px\" fill=\"#000\" opacity=\"1\">4</text><text text-anchor=\"end\" transform=\"translate(-7,72.5)\" font-family=\"sans-serif\" font-size=\"10px\" fill=\"#000\" opacity=\"1\">5</text></g><g class=\"mark-rule role-axis-domain\" pointer-events=\"none\"><line transform=\"translate(0,0)\" x2=\"0\" y2=\"80\" stroke=\"#888\" stroke-width=\"1\" opacity=\"1\"/></g><g class=\"mark-text role-axis-title\" pointer-events=\"none\"><text text-anchor=\"middle\" transform=\"translate(-17,40) rotate(-90) translate(0,-2)\" font-family=\"sans-serif\" font-size=\"11px\" font-weight=\"bold\" fill=\"#000\" opacity=\"1\">worker</text></g></g><path class=\"foreground\" aria-hidden=\"true\" d=\"\" pointer-events=\"none\" display=\"none\"/></g></g><g class=\"mark-rect role-mark concat_0_marks\" role=\"graphics-object\" aria-roledescription=\"rect mark container\"><path aria-label=\"worker: 4; start: 0.410722970963; stop: 2.413834095; color: #610102\" role=\"graphics-symbol\" aria-roledescription=\"bar\" d=\"M23.469884055001394,41h114.46349280221122v18h-114.46349280221122Z\" fill=\"#610102\"/><path aria-label=\"worker: 5; start: 0.40497303009; stop: 2.40808796883; color: #B32821\" role=\"graphics-symbol\" aria-roledescription=\"bar\" d=\"M23.14131600516183,61h114.46371078491211v18h-114.46371078491211Z\" fill=\"#B32821\"/><path aria-label=\"worker: 2; start: 0.416100978851; stop: 2.4191660881; color: #E85B4C\" role=\"graphics-symbol\" aria-roledescription=\"bar\" d=\"M23.777198791503906,1h114.46086338588171v18h-114.46086338588171Z\" fill=\"#E85B4C\"/><path aria-label=\"worker: 3; start: 0.411971092224; stop: 0.51318693161; color: #FF8D7B\" role=\"graphics-symbol\" aria-roledescription=\"bar\" d=\"M23.541205269949778,21h5.783762250627788v18h-5.783762250627788Z\" fill=\"#FF8D7B\"/><path aria-label=\"worker: 3; start: 0.653856992722; stop: 0.85516500473; color: #FFB7A8\" role=\"graphics-symbol\" aria-roledescription=\"bar\" d=\"M37.36325672694615,21h11.503314971923828v18h-11.503314971923828Z\" fill=\"#FFB7A8\"/><path aria-label=\"worker: 3; start: 0.855636119843; stop: 1.15705609322; color: #FFDAD0\" role=\"graphics-symbol\" aria-roledescription=\"bar\" d=\"M48.89349256243025,21h17.223998478480745v18h-17.223998478480745Z\" fill=\"#FFDAD0\"/><path aria-label=\"worker: 3; start: 1.15757608414; stop: 1.55909991264; color: #CDE9FA\" role=\"graphics-symbol\" aria-roledescription=\"bar\" d=\"M66.14720480782645,21h22.944218771798262v18h-22.944218771798262Z\" fill=\"#CDE9FA\"/><path aria-label=\"worker: 3; start: 1.55965900421; stop: 2.06127500534; color: #A3D2F3\" role=\"graphics-symbol\" aria-roledescription=\"bar\" d=\"M89.12337166922433,21h28.663771493094316v18h-28.663771493094316Z\" fill=\"#A3D2F3\"/><path aria-label=\"worker: 3; start: 2.0617480278; stop: 2.6634619236; color: #76B4E8\" role=\"graphics-symbol\" aria-roledescription=\"bar\" d=\"M117.81417301722936,21h34.38365118844166v18h-34.38365118844166Z\" fill=\"#76B4E8\"/><path aria-label=\"worker: 5; start: 2.48358798027; stop: 3.18535995483; color: #4A8DD0\" role=\"graphics-symbol\" aria-roledescription=\"bar\" d=\"M141.91931315830774,61h40.101255689348505v18h-40.101255689348505Z\" fill=\"#4A8DD0\"/><path aria-label=\"worker: 4; start: 2.49022102356; stop: 3.2921230793; color: #275FA2\" role=\"graphics-symbol\" aria-roledescription=\"bar\" d=\"M142.298344203404,41h45.82297461373466v18h-45.82297461373466Z\" fill=\"#275FA2\"/><path aria-label=\"worker: 2; start: 2.49341106415; stop: 3.395414114; color: #082C59\" role=\"graphics-symbol\" aria-roledescription=\"bar\" d=\"M142.48063223702567,1h51.543031420026495v18h-51.543031420026495Z\" fill=\"#082C59\"/></g><g class=\"mark-group role-title\"><g transform=\"translate(100,-17)\"><path class=\"background\" aria-hidden=\"true\" d=\"M0,0h0v0h0Z\" pointer-events=\"none\"/><g><g class=\"mark-text role-title-text\" role=\"graphics-symbol\" aria-roledescription=\"title\" aria-label=\"Title text 'pmap scheduling'\" pointer-events=\"none\"><text text-anchor=\"middle\" transform=\"translate(0,10)\" font-family=\"sans-serif\" font-size=\"13px\" font-weight=\"bold\" fill=\"#000\" opacity=\"1\">pmap scheduling</text></g></g><path class=\"foreground\" aria-hidden=\"true\" d=\"\" pointer-events=\"none\" display=\"none\"/></g></g></g><path class=\"foreground\" aria-hidden=\"true\" d=\"\" display=\"none\"/></g></g><g class=\"mark-group role-scope concat_1_group\" role=\"graphics-object\" aria-roledescription=\"group mark container\"><g transform=\"translate(251,0)\"><path class=\"background\" aria-hidden=\"true\" d=\"M0.5,0.5h200v80h-200Z\" fill=\"floralwhite\" stroke=\"#ddd\"/><g><g class=\"mark-group role-axis\" aria-hidden=\"true\"><g transform=\"translate(0.5,80.5)\"><path class=\"background\" aria-hidden=\"true\" d=\"M0,0h0v0h0Z\" pointer-events=\"none\"/><g><g class=\"mark-rule role-axis-grid\" pointer-events=\"none\"><line transform=\"translate(0,0)\" x2=\"0\" y2=\"-80\" stroke=\"#ddd\" stroke-width=\"1\" opacity=\"1\"/><line transform=\"translate(31,0)\" x2=\"0\" y2=\"-80\" stroke=\"#ddd\" stroke-width=\"1\" opacity=\"1\"/><line transform=\"translate(62,0)\" x2=\"0\" y2=\"-80\" stroke=\"#ddd\" stroke-width=\"1\" opacity=\"1\"/><line transform=\"translate(92,0)\" x2=\"0\" y2=\"-80\" stroke=\"#ddd\" stroke-width=\"1\" opacity=\"1\"/><line transform=\"translate(123,0)\" x2=\"0\" y2=\"-80\" stroke=\"#ddd\" stroke-width=\"1\" opacity=\"1\"/><line transform=\"translate(154,0)\" x2=\"0\" y2=\"-80\" stroke=\"#ddd\" stroke-width=\"1\" opacity=\"1\"/><line transform=\"translate(185,0)\" x2=\"0\" y2=\"-80\" stroke=\"#ddd\" stroke-width=\"1\" opacity=\"1\"/></g></g><path class=\"foreground\" aria-hidden=\"true\" d=\"\" pointer-events=\"none\" display=\"none\"/></g></g><g class=\"mark-group role-axis\" role=\"graphics-symbol\" aria-roledescription=\"axis\" aria-label=\"X-axis titled 'start, stop' for a linear scale with values from 0 to 7\"><g transform=\"translate(0.5,80.5)\"><path class=\"background\" aria-hidden=\"true\" d=\"M0,0h0v0h0Z\" pointer-events=\"none\"/><g><g class=\"mark-rule role-axis-tick\" pointer-events=\"none\"><line transform=\"translate(0,0)\" x2=\"0\" y2=\"5\" stroke=\"#888\" stroke-width=\"1\" opacity=\"1\"/><line transform=\"translate(31,0)\" x2=\"0\" y2=\"5\" stroke=\"#888\" stroke-width=\"1\" opacity=\"1\"/><line transform=\"translate(62,0)\" x2=\"0\" y2=\"5\" stroke=\"#888\" stroke-width=\"1\" opacity=\"1\"/><line transform=\"translate(92,0)\" x2=\"0\" y2=\"5\" stroke=\"#888\" stroke-width=\"1\" opacity=\"1\"/><line transform=\"translate(123,0)\" x2=\"0\" y2=\"5\" stroke=\"#888\" stroke-width=\"1\" opacity=\"1\"/><line transform=\"translate(154,0)\" x2=\"0\" y2=\"5\" stroke=\"#888\" stroke-width=\"1\" opacity=\"1\"/><line transform=\"translate(185,0)\" x2=\"0\" y2=\"5\" stroke=\"#888\" stroke-width=\"1\" opacity=\"1\"/></g><g class=\"mark-text role-axis-label\" pointer-events=\"none\"><text text-anchor=\"start\" transform=\"translate(0,15)\" font-family=\"sans-serif\" font-size=\"10px\" fill=\"#000\" opacity=\"1\">0</text><text text-anchor=\"middle\" transform=\"translate(30.76923076923077,15)\" font-family=\"sans-serif\" font-size=\"10px\" fill=\"#000\" opacity=\"1\">1</text><text text-anchor=\"middle\" transform=\"translate(61.53846153846154,15)\" font-family=\"sans-serif\" font-size=\"10px\" fill=\"#000\" opacity=\"1\">2</text><text text-anchor=\"middle\" transform=\"translate(92.3076923076923,15)\" font-family=\"sans-serif\" font-size=\"10px\" fill=\"#000\" opacity=\"1\">3</text><text text-anchor=\"middle\" transform=\"translate(123.07692307692308,15)\" font-family=\"sans-serif\" font-size=\"10px\" fill=\"#000\" opacity=\"1\">4</text><text text-anchor=\"middle\" transform=\"translate(153.84615384615387,15)\" font-family=\"sans-serif\" font-size=\"10px\" fill=\"#000\" opacity=\"1\">5</text><text text-anchor=\"middle\" transform=\"translate(184.6153846153846,15)\" font-family=\"sans-serif\" font-size=\"10px\" fill=\"#000\" opacity=\"1\">6</text></g><g class=\"mark-rule role-axis-domain\" pointer-events=\"none\"><line transform=\"translate(0,0)\" x2=\"200\" y2=\"0\" stroke=\"#888\" stroke-width=\"1\" opacity=\"1\"/></g><g class=\"mark-text role-axis-title\" pointer-events=\"none\"><text text-anchor=\"middle\" transform=\"translate(100,30)\" font-family=\"sans-serif\" font-size=\"11px\" font-weight=\"bold\" fill=\"#000\" opacity=\"1\">start, stop</text></g></g><path class=\"foreground\" aria-hidden=\"true\" d=\"\" pointer-events=\"none\" display=\"none\"/></g></g><g class=\"mark-group role-axis\" role=\"graphics-symbol\" aria-roledescription=\"axis\" aria-label=\"Y-axis titled 'worker' for a discrete scale with 4 values: 2, 3, 4, 5\"><g transform=\"translate(0.5,0.5)\"><path class=\"background\" aria-hidden=\"true\" d=\"M0,0h0v0h0Z\" pointer-events=\"none\"/><g><g class=\"mark-rule role-axis-tick\" pointer-events=\"none\"><line transform=\"translate(0,10)\" x2=\"-5\" y2=\"0\" stroke=\"#888\" stroke-width=\"1\" opacity=\"1\"/><line transform=\"translate(0,30)\" x2=\"-5\" y2=\"0\" stroke=\"#888\" stroke-width=\"1\" opacity=\"1\"/><line transform=\"translate(0,50)\" x2=\"-5\" y2=\"0\" stroke=\"#888\" stroke-width=\"1\" opacity=\"1\"/><line transform=\"translate(0,70)\" x2=\"-5\" y2=\"0\" stroke=\"#888\" stroke-width=\"1\" opacity=\"1\"/></g><g class=\"mark-text role-axis-label\" pointer-events=\"none\"><text text-anchor=\"end\" transform=\"translate(-7,12.5)\" font-family=\"sans-serif\" font-size=\"10px\" fill=\"#000\" opacity=\"1\">2</text><text text-anchor=\"end\" transform=\"translate(-7,32.5)\" font-family=\"sans-serif\" font-size=\"10px\" fill=\"#000\" opacity=\"1\">3</text><text text-anchor=\"end\" transform=\"translate(-7,52.5)\" font-family=\"sans-serif\" font-size=\"10px\" fill=\"#000\" opacity=\"1\">4</text><text text-anchor=\"end\" transform=\"translate(-7,72.5)\" font-family=\"sans-serif\" font-size=\"10px\" fill=\"#000\" opacity=\"1\">5</text></g><g class=\"mark-rule role-axis-domain\" pointer-events=\"none\"><line transform=\"translate(0,0)\" x2=\"0\" y2=\"80\" stroke=\"#888\" stroke-width=\"1\" opacity=\"1\"/></g><g class=\"mark-text role-axis-title\" pointer-events=\"none\"><text text-anchor=\"middle\" transform=\"translate(-17,40) rotate(-90) translate(0,-2)\" font-family=\"sans-serif\" font-size=\"11px\" font-weight=\"bold\" fill=\"#000\" opacity=\"1\">worker</text></g></g><path class=\"foreground\" aria-hidden=\"true\" d=\"\" pointer-events=\"none\" display=\"none\"/></g></g><g class=\"mark-rect role-mark concat_1_marks\" role=\"graphics-object\" aria-roledescription=\"rect mark container\"><path aria-label=\"worker: 2; start: 0.230298042297; stop: 2.23337888718; color: #610102\" role=\"graphics-symbol\" aria-roledescription=\"bar\" d=\"M7.086093609149639,1h61.633256765512314v18h-61.633256765512314Z\" fill=\"#610102\"/><path aria-label=\"worker: 2; start: 2.25891089439; stop: 4.26204991341; color: #B32821\" role=\"graphics-symbol\" aria-roledescription=\"bar\" d=\"M69.50495059673602,1h61.635046738844665v18h-61.635046738844665Z\" fill=\"#B32821\"/><path aria-label=\"worker: 2; start: 4.2943789959; stop: 6.2974820137; color: #E85B4C\" role=\"graphics-symbol\" aria-roledescription=\"bar\" d=\"M132.13473833524262,1h61.63393900944641v18h-61.63393900944641Z\" fill=\"#E85B4C\"/><path aria-label=\"worker: 3; start: 0.244694948196; stop: 0.345910072327; color: #FF8D7B\" role=\"graphics-symbol\" aria-roledescription=\"bar\" d=\"M7.529075329120342,21h3.1143115116999702v18h-3.1143115116999702Z\" fill=\"#FF8D7B\"/><path aria-label=\"worker: 3; start: 0.360323905945; stop: 0.561637878418; color: #FFB7A8\" role=\"graphics-symbol\" aria-roledescription=\"bar\" d=\"M11.0868894136869,21h6.194276076096754v18h-6.194276076096754Z\" fill=\"#FFB7A8\"/><path aria-label=\"worker: 3; start: 0.593101978302; stop: 0.894525051117; color: #FFDAD0\" role=\"graphics-symbol\" aria-roledescription=\"bar\" d=\"M18.2492916400616,21h9.274556086613583v18h-9.274556086613583Z\" fill=\"#FFDAD0\"/><path aria-label=\"worker: 4; start: 0.240030050278; stop: 0.641541004181; color: #CDE9FA\" role=\"graphics-symbol\" aria-roledescription=\"bar\" d=\"M7.385540008544922,41h12.354183197021484v18h-12.354183197021484Z\" fill=\"#CDE9FA\"/><path aria-label=\"worker: 4; start: 0.666527986526; stop: 1.16814303398; color: #A3D2F3\" role=\"graphics-symbol\" aria-roledescription=\"bar\" d=\"M20.508553431584282,41h15.434309152456429v18h-15.434309152456429Z\" fill=\"#A3D2F3\"/><path aria-label=\"worker: 4; start: 1.18706488609; stop: 1.78875803947; color: #76B4E8\" role=\"graphics-symbol\" aria-roledescription=\"bar\" d=\"M36.52507341825045,41h18.513635488656845v18h-18.513635488656845Z\" fill=\"#76B4E8\"/><path aria-label=\"worker: 5; start: 0.235800981522; stop: 0.937602043152; color: #4A8DD0\" role=\"graphics-symbol\" aria-roledescription=\"bar\" d=\"M7.25541481604943,61h21.593878819392277v18h-21.593878819392277Z\" fill=\"#4A8DD0\"/><path aria-label=\"worker: 5; start: 0.951493024826; stop: 1.75339698792; color: #275FA2\" role=\"graphics-symbol\" aria-roledescription=\"bar\" d=\"M29.276708456186146,61h24.673968095045826v18h-24.673968095045826Z\" fill=\"#275FA2\"/><path aria-label=\"worker: 5; start: 1.78392004967; stop: 2.68593001366; color: #082C59\" role=\"graphics-symbol\" aria-roledescription=\"bar\" d=\"M54.88984768207257,61h27.754152738131012v18h-27.754152738131012Z\" fill=\"#082C59\"/></g><g class=\"mark-group role-title\"><g transform=\"translate(100,-17)\"><path class=\"background\" aria-hidden=\"true\" d=\"M0,0h0v0h0Z\" pointer-events=\"none\"/><g><g class=\"mark-text role-title-text\" role=\"graphics-symbol\" aria-roledescription=\"title\" aria-label=\"Title text '@distributed scheduling'\" pointer-events=\"none\"><text text-anchor=\"middle\" transform=\"translate(0,10)\" font-family=\"sans-serif\" font-size=\"13px\" font-weight=\"bold\" fill=\"#000\" opacity=\"1\">@distributed scheduling</text></g></g><path class=\"foreground\" aria-hidden=\"true\" d=\"\" pointer-events=\"none\" display=\"none\"/></g></g></g><path class=\"foreground\" aria-hidden=\"true\" d=\"\" display=\"none\"/></g></g></g><path class=\"foreground\" aria-hidden=\"true\" d=\"\" display=\"none\"/></g></g></g></svg>\n"
      ],
      "text/plain": [
       "@vlplot(\n",
       "    columns=2,\n",
       "    width=600,\n",
       "    vconcat=[\n",
       "        {\n",
       "            data={\n",
       "                values=[\n",
       "                    (worker = 4, start = 0.4107229709625244, stop = 2.4138340950012207, color = \"#610102\"),\n",
       "                    (worker = 5, start = 0.40497303009033203, stop = 2.408087968826294, color = \"#B32821\"),\n",
       "                    (worker = 2, start = 0.41610097885131836, stop = 2.419166088104248, color = \"#E85B4C\"),\n",
       "                    (worker = 3, start = 0.4119710922241211, stop = 0.5131869316101074, color = \"#FF8D7B\"),\n",
       "                    (worker = 3, start = 0.6538569927215576, stop = 0.8551650047302246, color = \"#FFB7A8\"),\n",
       "                    (worker = 3, start = 0.8556361198425293, stop = 1.1570560932159424, color = \"#FFDAD0\"),\n",
       "                    (worker = 3, start = 1.157576084136963, stop = 1.5590999126434326, color = \"#CDE9FA\"),\n",
       "                    (worker = 3, start = 1.5596590042114258, stop = 2.061275005340576, color = \"#A3D2F3\"),\n",
       "                    (worker = 3, start = 2.0617480278015137, stop = 2.663461923599243, color = \"#76B4E8\"),\n",
       "                    (worker = 5, start = 2.4835879802703857, stop = 3.1853599548339844, color = \"#4A8DD0\"),\n",
       "                    (worker = 4, start = 2.4902210235595703, stop = 3.2921230792999268, color = \"#275FA2\"),\n",
       "                    (worker = 2, start = 2.493411064147949, stop = 3.395414113998413, color = \"#082C59\")\n",
       "                ]\n",
       "            },\n",
       "            view={\n",
       "                fill=\"floralwhite\"\n",
       "            },\n",
       "            title=\"pmap scheduling\",\n",
       "            mark=\"bar\",\n",
       "            encoding={\n",
       "                y={\n",
       "                    field=\"worker\",\n",
       "                    type=\"ordinal\"\n",
       "                },\n",
       "                x={\n",
       "                    field=\"start\",\n",
       "                    type=\"quantitative\"\n",
       "                },\n",
       "                x2={\n",
       "                    field=\"stop\",\n",
       "                    type=\"quantitative\"\n",
       "                },\n",
       "                color={\n",
       "                    scale=nothing,\n",
       "                    field=\"color\",\n",
       "                    type=\"nominal\"\n",
       "                }\n",
       "            }\n",
       "        },\n",
       "        {\n",
       "            data={\n",
       "                values=[\n",
       "                    (worker = 2, start = 0.23029804229736328, stop = 2.2333788871765137, color = \"#610102\"),\n",
       "                    (worker = 2, start = 2.258910894393921, stop = 4.262049913406372, color = \"#B32821\"),\n",
       "                    (worker = 2, start = 4.294378995895386, stop = 6.297482013702393, color = \"#E85B4C\"),\n",
       "                    (worker = 3, start = 0.24469494819641113, stop = 0.34591007232666016, color = \"#FF8D7B\"),\n",
       "                    (worker = 3, start = 0.3603239059448242, stop = 0.5616378784179688, color = \"#FFB7A8\"),\n",
       "                    (worker = 3, start = 0.593101978302002, stop = 0.8945250511169434, color = \"#FFDAD0\"),\n",
       "                    (worker = 4, start = 0.24003005027770996, stop = 0.6415410041809082, color = \"#CDE9FA\"),\n",
       "                    (worker = 4, start = 0.6665279865264893, stop = 1.1681430339813232, color = \"#A3D2F3\"),\n",
       "                    (worker = 4, start = 1.1870648860931396, stop = 1.7887580394744873, color = \"#76B4E8\"),\n",
       "                    (worker = 5, start = 0.23580098152160645, stop = 0.9376020431518555, color = \"#4A8DD0\"),\n",
       "                    (worker = 5, start = 0.9514930248260498, stop = 1.753396987915039, color = \"#275FA2\"),\n",
       "                    (worker = 5, start = 1.7839200496673584, stop = 2.685930013656616, color = \"#082C59\")\n",
       "                ]\n",
       "            },\n",
       "            view={\n",
       "                fill=\"floralwhite\"\n",
       "            },\n",
       "            title=\"@distributed scheduling\",\n",
       "            mark=\"bar\",\n",
       "            encoding={\n",
       "                y={\n",
       "                    field=\"worker\",\n",
       "                    type=\"ordinal\"\n",
       "                },\n",
       "                x={\n",
       "                    field=\"start\",\n",
       "                    type=\"quantitative\"\n",
       "                },\n",
       "                x2={\n",
       "                    field=\"stop\",\n",
       "                    type=\"quantitative\"\n",
       "                },\n",
       "                color={\n",
       "                    scale=nothing,\n",
       "                    field=\"color\",\n",
       "                    type=\"nominal\"\n",
       "                }\n",
       "            }\n",
       "        }\n",
       "    ]\n",
       ")"
      ]
     },
     "execution_count": 9,
     "metadata": {},
     "output_type": "execute_result"
    }
   ],
   "source": [
    "function plot_scheduling(t1,t2)\n",
    "  colors=[\"#\"*hex(ci) for ci in colormap(\"RdBu\",length(tt))]\n",
    "  tp1 = [(worker=t1[ii].worker,start=t1[ii].start,stop=t1[ii].stop,color= colors[ii]) for ii in 1:length(t1)]\n",
    "  tp2 = [(worker=t2[ii].worker,start=t2[ii].start,stop=t2[ii].stop,color= colors[ii]) for ii in 1:length(t2)]\n",
    "  @vlplot(\n",
    "     columns=2,\n",
    "     width=600\n",
    "   )+\n",
    "  [ @vlplot(\n",
    "    :bar,\n",
    "    data={\n",
    "        values=tp1\n",
    "    },\n",
    "    y=\"worker:o\",\n",
    "    x=\"start:q\",\n",
    "    x2=\"stop:q\",\n",
    "    color={\"color:n\",scale=nothing},\n",
    "    view={fill=\"floralwhite\"},\n",
    "    title=\"pmap scheduling\"\n",
    "   );\n",
    "    @vlplot(\n",
    "    :bar,\n",
    "    data={\n",
    "        values=tp2\n",
    "    },\n",
    "    y=\"worker:o\",\n",
    "    x=\"start:q\",\n",
    "    x2=\"stop:q\",\n",
    "    color={\"color:n\",scale=nothing},\n",
    "    view={fill=\"floralwhite\"},\n",
    "    title=\"@distributed scheduling\"\n",
    "   )\n",
    " ]\n",
    "end\n",
    "plot_scheduling(t1,t2)"
   ]
  },
  {
   "cell_type": "markdown",
   "id": "26ef0206-50d5-4a53-8bdc-11a3b2d2d5bc",
   "metadata": {},
   "source": [
    "It is clear that `pmap` sends the first four numbers, 2, 2, 2, and 0.1, to worker A, B, C and D, repectively and then sends the next number to the next available worker. In this scenario, woker D receives the next six numbers one by one before other workers wakes up from `sleep(2)` and becomes ready to take the next unattended task. \n",
    "\n",
    "In comparison, the `@distributed` loop dipatches the workload in 4 partitions, the first 3 numbers are all sends to the worker A, then the next three numbers to woker B and so on. As a result, under this given input `tt`, most of the time most of the workers are idling.\n",
    "\n",
    "Please note, workers A, B, C and D are workers 2, 3, 4 and 5, respectively, in the above example, but not necessarily in every each run. The sequence can be different every time the code runs. \n",
    "\n",
    "To do the timing properly, let's run the following cell. The macro `@btime` comes from `BenchmarkTools`. It runs a benchmark on the given expression and shows the minimum execution time during the benchmark.   "
   ]
  },
  {
   "cell_type": "code",
   "execution_count": 10,
   "id": "c6139fd7",
   "metadata": {},
   "outputs": [
    {
     "name": "stdout",
     "output_type": "stream",
     "text": [
      "  2.906 s (766 allocations: 90.00 KiB)\n",
      "  6.010 s (229 allocations: 41.42 KiB)\n"
     ]
    }
   ],
   "source": [
    "@btime t1 = pmap(x -> begin sleep(x); x end,tt);\n",
    "@btime t2 = @distributed (append!) for ti in tt\n",
    "                 sleep(ti)\n",
    "                 [ti]\n",
    "end;"
   ]
  },
  {
   "cell_type": "markdown",
   "id": "4ca45a15",
   "metadata": {},
   "source": [
    "The `pmap` execution walltime is about 7% higher than the limit 2.625 seconds. We will explain this non-negligible overhead later. \n",
    "\n",
    "### Length of Subtasks\n",
    "\n",
    "Let's take a closer look into the benchmark function to understand what the minima indicate."
   ]
  },
  {
   "cell_type": "code",
   "execution_count": 11,
   "id": "31e37f8a",
   "metadata": {},
   "outputs": [
    {
     "data": {
      "text/plain": [
       "BenchmarkTools.Trial: 10000 samples with 1 evaluation.\n",
       " Range \u001b[90m(\u001b[39m\u001b[36m\u001b[1mmin\u001b[22m\u001b[39m … \u001b[35mmax\u001b[39m\u001b[90m):  \u001b[39m\u001b[36m\u001b[1m25.443 μs\u001b[22m\u001b[39m … \u001b[35m 2.658 ms\u001b[39m  \u001b[90m┊\u001b[39m GC \u001b[90m(\u001b[39mmin … max\u001b[90m): \u001b[39m0.00% … 98.55%\n",
       " Time  \u001b[90m(\u001b[39m\u001b[34m\u001b[1mmedian\u001b[22m\u001b[39m\u001b[90m):     \u001b[39m\u001b[34m\u001b[1m31.497 μs              \u001b[22m\u001b[39m\u001b[90m┊\u001b[39m GC \u001b[90m(\u001b[39mmedian\u001b[90m):    \u001b[39m0.00%\n",
       " Time  \u001b[90m(\u001b[39m\u001b[32m\u001b[1mmean\u001b[22m\u001b[39m ± \u001b[32mσ\u001b[39m\u001b[90m):   \u001b[39m\u001b[32m\u001b[1m32.878 μs\u001b[22m\u001b[39m ± \u001b[32m45.032 μs\u001b[39m  \u001b[90m┊\u001b[39m GC \u001b[90m(\u001b[39mmean ± σ\u001b[90m):  \u001b[39m2.35% ±  1.70%\n",
       "\n",
       "  \u001b[39m \u001b[39m \u001b[39m \u001b[39m \u001b[39m \u001b[39m▂\u001b[39m▅\u001b[39m▇\u001b[39m▇\u001b[39m▇\u001b[39m█\u001b[39m▆\u001b[39m▃\u001b[39m▃\u001b[39m▁\u001b[39m \u001b[39m \u001b[39m \u001b[39m \u001b[39m \u001b[39m \u001b[34m \u001b[39m\u001b[39m \u001b[39m \u001b[39m \u001b[39m \u001b[32m \u001b[39m\u001b[39m \u001b[39m▁\u001b[39m▁\u001b[39m▁\u001b[39m▂\u001b[39m \u001b[39m \u001b[39m \u001b[39m \u001b[39m \u001b[39m \u001b[39m \u001b[39m \u001b[39m \u001b[39m \u001b[39m \u001b[39m \u001b[39m \u001b[39m \u001b[39m \u001b[39m \u001b[39m \u001b[39m \u001b[39m \u001b[39m \u001b[39m \u001b[39m \u001b[39m \u001b[39m \u001b[39m \u001b[39m \u001b[39m \u001b[39m \u001b[39m \n",
       "  \u001b[39m▁\u001b[39m▂\u001b[39m▃\u001b[39m▅\u001b[39m▇\u001b[39m█\u001b[39m█\u001b[39m█\u001b[39m█\u001b[39m█\u001b[39m█\u001b[39m█\u001b[39m█\u001b[39m█\u001b[39m█\u001b[39m█\u001b[39m▆\u001b[39m▅\u001b[39m▅\u001b[39m▅\u001b[39m▆\u001b[34m▄\u001b[39m\u001b[39m▆\u001b[39m▆\u001b[39m▆\u001b[39m▇\u001b[32m█\u001b[39m\u001b[39m▇\u001b[39m█\u001b[39m█\u001b[39m█\u001b[39m█\u001b[39m█\u001b[39m█\u001b[39m█\u001b[39m▇\u001b[39m█\u001b[39m▇\u001b[39m▆\u001b[39m▆\u001b[39m▆\u001b[39m▅\u001b[39m▅\u001b[39m▄\u001b[39m▄\u001b[39m▃\u001b[39m▃\u001b[39m▃\u001b[39m▃\u001b[39m▃\u001b[39m▂\u001b[39m▂\u001b[39m▂\u001b[39m▃\u001b[39m▂\u001b[39m▂\u001b[39m▂\u001b[39m▁\u001b[39m▂\u001b[39m \u001b[39m▄\n",
       "  25.4 μs\u001b[90m         Histogram: frequency by time\u001b[39m        42.6 μs \u001b[0m\u001b[1m<\u001b[22m\n",
       "\n",
       " Memory estimate\u001b[90m: \u001b[39m\u001b[33m16.16 KiB\u001b[39m, allocs estimate\u001b[90m: \u001b[39m\u001b[33m19\u001b[39m."
      ]
     },
     "execution_count": 11,
     "metadata": {},
     "output_type": "execute_result"
    }
   ],
   "source": [
    "BenchmarkTools.DEFAULT_PARAMETERS.samples = 10000\n",
    "BenchmarkTools.DEFAULT_PARAMETERS.evals = 3\n",
    "BenchmarkTools.DEFAULT_PARAMETERS.seconds = 5\n",
    "@benchmark eigen(rand(Float64,10,10))"
   ]
  },
  {
   "cell_type": "markdown",
   "id": "10831830",
   "metadata": {},
   "source": [
    "The benchmark function evaluates the expression multiple times and measures time/memory during all the evaluations. It accepts default parameters such as the number of samples, the number of evaluations per sample and the total time budget. However, it automatically decides the right configuration as it can be inconspicuous. For example, what should the number of evaluations per sample be? In the example above, `eigen(rand(10,10))` takes about 10 $\\mu$s to execute which is much longer than the time resolution of a morden computer. Therefore, it decides it is sufficient to take only one sample per evaluation.\n",
    "\n",
    "The benchmark result is stored in a `Trial` which keeps the minimum, median, mean and maximum execution time and their standard deviations, together with the corresponding memory allocation as well as the garbage collection metrics in those cases. \n",
    "\n",
    "We take the minimum execution time reported by `@btime` because it is a robust estimator for the execution time distribution due to the almost always positive machine noise. "
   ]
  },
  {
   "cell_type": "markdown",
   "id": "8d03f169",
   "metadata": {},
   "source": [
    "### Overhead in Dynamic Scheduling\n",
    "\n",
    "Dynamic scheduling can mitigate the workload imbalance, but the benefit doesn't come without a cost. The time spent in the setup of the dynamic scheduler and communications between scheduler and workers are all more costly than that of the static scheduler. Potentially the data trasmission in each dispatch can be also less efficient than that in a parallel for loop.\n",
    "\n",
    "Let's now use this `eigen(rand(10,10)` as subtasks to revisit the difference betewen the `pmap` and `@distributed` loop. Note the following comparison is slightly different than the sleep one shown above, as type assertion is added in the for loop to cope with the fact that `eigen` is not a closed operator on Float64. The eigenvalues and the elements of eigenvectors of a N$\\times$N Float64 matrix can be complex."
   ]
  },
  {
   "cell_type": "code",
   "execution_count": 12,
   "id": "8f1dde52",
   "metadata": {
    "scrolled": true
   },
   "outputs": [
    {
     "name": "stdout",
     "output_type": "stream",
     "text": [
      "  823.834 μs (1448 allocations: 143.56 KiB)\n",
      "  433.640 μs (668 allocations: 81.56 KiB)\n"
     ]
    }
   ],
   "source": [
    "@btime pmap(x -> eigen(rand(10,10)),1:12);\n",
    "@btime @distributed (append!) for x in 1:12 \n",
    "                 Eigen[eigen(rand(10,10))]\n",
    "end;"
   ]
  },
  {
   "cell_type": "markdown",
   "id": "79fefa7f",
   "metadata": {},
   "source": [
    "This time we see the @distributed for loop runs much faster and the difference becomes even greater when the total number of subtasks increases."
   ]
  },
  {
   "cell_type": "code",
   "execution_count": 13,
   "id": "e95684ff",
   "metadata": {},
   "outputs": [
    {
     "name": "stdout",
     "output_type": "stream",
     "text": [
      "  59.742 ms (116323 allocations: 6.55 MiB)\n",
      "  11.427 ms (17511 allocations: 2.71 MiB)\n"
     ]
    }
   ],
   "source": [
    "K=10^3\n",
    "@btime pmap(x -> eigen(rand(10,10)),1:K);\n",
    "@btime @distributed (append!) for x in 1:K\n",
    "        Eigen[eigen(rand(10,10))]\n",
    "end;"
   ]
  },
  {
   "cell_type": "markdown",
   "id": "f93b5781",
   "metadata": {},
   "source": [
    "In my current environment, the threshold subtask size is about the same size of `eigen(rand(100,100))` which in general takes a few milliseconds to executes."
   ]
  },
  {
   "cell_type": "code",
   "execution_count": 14,
   "id": "269589cd",
   "metadata": {},
   "outputs": [
    {
     "name": "stdout",
     "output_type": "stream",
     "text": [
      "  20.270 ms (1519 allocations: 1.97 MiB)\n",
      "  19.563 ms (737 allocations: 1.91 MiB)\n"
     ]
    }
   ],
   "source": [
    "K=12\n",
    "@btime pmap(x -> eigen(rand(100,100)),1:K);\n",
    "@btime @distributed (append!) for x in 1:K\n",
    "        Eigen[eigen(rand(100,100))]\n",
    "end;"
   ]
  },
  {
   "cell_type": "code",
   "execution_count": 15,
   "id": "d5d373d8",
   "metadata": {},
   "outputs": [
    {
     "data": {
      "text/plain": [
       "BenchmarkTools.Trial: 816 samples with 1 evaluation.\n",
       " Range \u001b[90m(\u001b[39m\u001b[36m\u001b[1mmin\u001b[22m\u001b[39m … \u001b[35mmax\u001b[39m\u001b[90m):  \u001b[39m\u001b[36m\u001b[1m5.630 ms\u001b[22m\u001b[39m … \u001b[35m 11.573 ms\u001b[39m  \u001b[90m┊\u001b[39m GC \u001b[90m(\u001b[39mmin … max\u001b[90m): \u001b[39m0.00% … 44.63%\n",
       " Time  \u001b[90m(\u001b[39m\u001b[34m\u001b[1mmedian\u001b[22m\u001b[39m\u001b[90m):     \u001b[39m\u001b[34m\u001b[1m6.098 ms               \u001b[22m\u001b[39m\u001b[90m┊\u001b[39m GC \u001b[90m(\u001b[39mmedian\u001b[90m):    \u001b[39m0.00%\n",
       " Time  \u001b[90m(\u001b[39m\u001b[32m\u001b[1mmean\u001b[22m\u001b[39m ± \u001b[32mσ\u001b[39m\u001b[90m):   \u001b[39m\u001b[32m\u001b[1m6.126 ms\u001b[22m\u001b[39m ± \u001b[32m301.163 μs\u001b[39m  \u001b[90m┊\u001b[39m GC \u001b[90m(\u001b[39mmean ± σ\u001b[90m):  \u001b[39m0.35% ±  2.55%\n",
       "\n",
       "  \u001b[39m \u001b[39m \u001b[39m \u001b[39m \u001b[39m \u001b[39m \u001b[39m \u001b[39m \u001b[39m \u001b[39m▂\u001b[39m▂\u001b[39m▆\u001b[39m▃\u001b[39m▃\u001b[39m█\u001b[34m▆\u001b[39m\u001b[39m▆\u001b[39m▄\u001b[39m \u001b[39m \u001b[39m \u001b[39m \u001b[39m \u001b[39m \u001b[39m \u001b[39m \u001b[39m \u001b[39m \u001b[39m \u001b[39m \u001b[39m \u001b[39m \u001b[39m \u001b[39m \u001b[39m \u001b[39m \u001b[39m \u001b[39m \u001b[39m \u001b[39m \u001b[39m \u001b[39m \u001b[39m \u001b[39m \u001b[39m \u001b[39m \u001b[39m \u001b[39m \u001b[39m \u001b[39m \u001b[39m \u001b[39m \u001b[39m \u001b[39m \u001b[39m \u001b[39m \u001b[39m \u001b[39m \u001b[39m \u001b[39m \u001b[39m \n",
       "  \u001b[39m▂\u001b[39m▃\u001b[39m▂\u001b[39m▃\u001b[39m▃\u001b[39m▃\u001b[39m▅\u001b[39m▆\u001b[39m▆\u001b[39m█\u001b[39m█\u001b[39m█\u001b[39m█\u001b[39m█\u001b[39m█\u001b[34m█\u001b[39m\u001b[39m█\u001b[39m█\u001b[39m█\u001b[39m█\u001b[39m▇\u001b[39m▆\u001b[39m▆\u001b[39m▅\u001b[39m▃\u001b[39m▄\u001b[39m▃\u001b[39m▂\u001b[39m▃\u001b[39m▁\u001b[39m▁\u001b[39m▁\u001b[39m▁\u001b[39m▁\u001b[39m▁\u001b[39m▁\u001b[39m▁\u001b[39m▁\u001b[39m▁\u001b[39m▁\u001b[39m▁\u001b[39m▁\u001b[39m▁\u001b[39m▁\u001b[39m▁\u001b[39m▁\u001b[39m▁\u001b[39m▁\u001b[39m▁\u001b[39m▁\u001b[39m▁\u001b[39m▁\u001b[39m▁\u001b[39m▁\u001b[39m▂\u001b[39m▁\u001b[39m▁\u001b[39m▁\u001b[39m▂\u001b[39m \u001b[39m▃\n",
       "  5.63 ms\u001b[90m         Histogram: frequency by time\u001b[39m        7.52 ms \u001b[0m\u001b[1m<\u001b[22m\n",
       "\n",
       " Memory estimate\u001b[90m: \u001b[39m\u001b[33m500.64 KiB\u001b[39m, allocs estimate\u001b[90m: \u001b[39m\u001b[33m23\u001b[39m."
      ]
     },
     "execution_count": 15,
     "metadata": {},
     "output_type": "execute_result"
    }
   ],
   "source": [
    "@benchmark eigen(rand(100,100))"
   ]
  },
  {
   "cell_type": "markdown",
   "id": "fabd121f",
   "metadata": {},
   "source": [
    "To enjoy the best of both dynamic and static scheduling, `pmap` with `batch_size`>1 may be a good option to consider, but again, the trade-off depends on many factors. The distribution of the subtask execution time, the amount of data in each transfer and the amount of compute resources owned by each worker can all make a difference in the decision."
   ]
  },
  {
   "cell_type": "code",
   "execution_count": 16,
   "id": "fa2b74c8",
   "metadata": {},
   "outputs": [
    {
     "name": "stdout",
     "output_type": "stream",
     "text": [
      "(K, N, bs) = (1000, 100, 25.0)\n",
      "  1.662 s (32901 allocations: 155.65 MiB)\n",
      "  1.654 s (22866 allocations: 155.20 MiB)\n"
     ]
    }
   ],
   "source": [
    "K=10^3\n",
    "N=100\n",
    "bs=floor(0.1*K/nworkers())\n",
    "@show K, N, bs\n",
    "@btime pmap(x -> eigen(rand(N,N)),1:K, batch_size=bs);\n",
    "@btime @distributed (append!) for x in 1:K\n",
    "        Eigen[eigen(rand(N,N))]\n",
    "end;"
   ]
  },
  {
   "cell_type": "markdown",
   "id": "cc3db121",
   "metadata": {},
   "source": [
    "### Things to Try\n",
    "\n",
    "1. Change the number of workers and observe how the execution time of both `pmap` and `@distributed` for loop respond.\n",
    "1. Name another few factors that may affect the total walltime of `pmap` and `@distributed` for loop differently."
   ]
  },
  {
   "cell_type": "markdown",
   "id": "988dd774-ab2d-4a86-bde2-52497c9fab55",
   "metadata": {},
   "source": [
    "## Close the Woker Pool\n",
    "When finishing up the exploration, it is always a good practise to close the worker pool before quiting the notebook and shutting down the kernel."
   ]
  },
  {
   "cell_type": "code",
   "execution_count": 17,
   "id": "5769a16d-13e9-4ba2-bcdf-24c47ff2c113",
   "metadata": {},
   "outputs": [
    {
     "name": "stdout",
     "output_type": "stream",
     "text": [
      "workers are [1]\n"
     ]
    }
   ],
   "source": [
    "## close the worker pool\n",
    "t = rmprocs(workers()...)\n",
    "wait(t)\n",
    "println(\"workers are $(workers())\")"
   ]
  }
 ],
 "metadata": {
  "kernelspec": {
   "display_name": "Julia 1.7.2 [conda env:datasci] *",
   "language": "julia",
   "name": "conda-env-datasci-julia-1.7"
  },
  "language_info": {
   "file_extension": ".jl",
   "mimetype": "application/julia",
   "name": "julia",
   "version": "1.7.2"
  }
 },
 "nbformat": 4,
 "nbformat_minor": 5
}
